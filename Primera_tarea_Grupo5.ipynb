{
  "nbformat": 4,
  "nbformat_minor": 0,
  "metadata": {
    "colab": {
      "provenance": [],
      "include_colab_link": true
    },
    "kernelspec": {
      "name": "python3",
      "display_name": "Python 3"
    },
    "language_info": {
      "name": "python"
    }
  },
  "cells": [
    {
      "cell_type": "markdown",
      "metadata": {
        "id": "view-in-github",
        "colab_type": "text"
      },
      "source": [
        "<a href=\"https://colab.research.google.com/github/NayemyMurilloRivera/Algebra/blob/main/Primera_tarea_Grupo5.ipynb\" target=\"_parent\"><img src=\"https://colab.research.google.com/assets/colab-badge.svg\" alt=\"Open In Colab\"/></a>"
      ]
    },
    {
      "cell_type": "code",
      "source": [
        "import numpy as np\n",
        "import matplotlib.pyplot as plt"
      ],
      "metadata": {
        "id": "iu8-Vy6jVyNN"
      },
      "execution_count": 4,
      "outputs": []
    },
    {
      "cell_type": "markdown",
      "source": [
        "a) Para un vector en el plano cartesiano. A partir de la magnitud y dirección de un vector, determinar las coordenadas cartesianas.\n",
        "\n",
        "\n"
      ],
      "metadata": {
        "id": "VmUqNq17bQKa"
      }
    },
    {
      "cell_type": "code",
      "source": [
        "magnitud=int(input(\"Ingrese su magnitud:\"))\n",
        "direccion_ingresada=np.radians(int(input(\"Ingrese su direccion:\")))\n",
        "y2=magnitud*np.sin(direccion_ingresada)\n",
        "x2=magnitud*np.cos(direccion_ingresada)\n",
        "if(direccion_ingresada>np.radians(90) and direccion_ingresada<np.radians(270)):\n",
        "    direccion_ingresada=direccion_ingresada+np.radians(180)\n",
        "x=magnitud*np.cos(direccion_ingresada)\n",
        "y=magnitud*np.sin(direccion_ingresada)\n",
        "rectangulares=np.array([x,y])\n",
        "print(np.round(rectangulares,4))\n",
        "#falta poner la flecha y cambiar el color\n",
        "ax = plt.axes()\n",
        "ax.arrow(0,0,x2,y2,head_width=0.5, head_length=0.5)\n",
        "rango = magnitud + 5\n",
        "ax.axhline(0, color='black', linewidth=0.8)\n",
        "ax.axvline(0, color='black', linewidth=0.8)\n",
        "ax.set_xlim(-rango, rango)\n",
        "ax.set_ylim(-rango, rango)\n",
        "plt.show()\n",
        "\n"
      ],
      "metadata": {
        "colab": {
          "base_uri": "https://localhost:8080/",
          "height": 490
        },
        "outputId": "5ddb81b2-a3a4-4386-be4b-e8c502b759df",
        "id": "YT_WaJO4UxRe"
      },
      "execution_count": 21,
      "outputs": [
        {
          "output_type": "stream",
          "name": "stdout",
          "text": [
            "Ingrese su magnitud:145\n",
            "Ingrese su direccion:285\n",
            "[  37.5288 -140.0592]\n"
          ]
        },
        {
          "output_type": "display_data",
          "data": {
            "text/plain": [
              "<Figure size 640x480 with 1 Axes>"
            ],
            "image/png": "[encoded data removed]"
          },
          "metadata": {}
        }
      ]
    },
    {
      "cell_type": "markdown",
      "source": [
        " b) Para un vector en el plano cartesiano. A partir de las componentes cartesianas del vector,determinar la magnitud y dirección.:\n"
      ],
      "metadata": {
        "id": "m9Ux8JqziNLH"
      }
    },
    {
      "cell_type": "code",
      "source": [
        "Vx=float(input(\"Ingrese su x:\"))\n",
        "Vy=float(input(\"Ingrese su y:\"))\n",
        "\n",
        "mag_for=np.sqrt(Vx**2+Vy**2)\n",
        "print(np.round(mag_for,4))\n",
        "div=Vy/Vx\n",
        "dire_for=np.degrees(np.arctan(div))\n",
        "if(Vx<0):\n",
        "    dire_for=dire_for+180\n",
        "print(np.round(dire_for,4))\n",
        "\n",
        "ax = plt.axes()\n",
        "ax.arrow(0,0,Vx,Vy,head_width=0.5, head_length=0.5)\n",
        "rango = magnitud + 5\n",
        "ax.axhline(0, color='black', linewidth=0.8)\n",
        "ax.axvline(0, color='black', linewidth=0.8)\n",
        "ax.set_xlim(-rango, rango)\n",
        "ax.set_ylim(-rango, rango)\n",
        "plt.show()\n"
      ],
      "metadata": {
        "colab": {
          "base_uri": "https://localhost:8080/",
          "height": 508
        },
        "id": "NzNfuNBMilU9",
        "outputId": "f01c0bb3-22cd-4014-a029-befeb3665981"
      },
      "execution_count": 43,
      "outputs": [
        {
          "output_type": "stream",
          "name": "stdout",
          "text": [
            "Ingrese su x:-53\n",
            "Ingrese su y:-55\n",
            "76.3806\n",
            "226.0609\n"
          ]
        },
        {
          "output_type": "display_data",
          "data": {
            "text/plain": [
              "<Figure size 640x480 with 1 Axes>"
            ],
            "image/png": "[encoded data removed]"
          },
          "metadata": {}
        }
      ]
    },
    {
      "cell_type": "markdown",
      "source": [
        "c) Sumar tres vectores en el plano cartesiano, tomando como entrada la magnitud y dirección de cada vector, para dar como resultado las componentes y la magnitud y dirección de la resultante.\n"
      ],
      "metadata": {
        "id": "LDQ-naQMpROQ"
      }
    },
    {
      "cell_type": "code",
      "source": [
        "mag1=int(input(\"Ingrese su magnitud1:\"))\n",
        "dir1=np.radians(int(input(\"Ingrese su direccion1:\")))\n",
        "mag2=int(input(\"Ingrese su magnitud2:\"))\n",
        "dir2=np.radians(int(input(\"Ingrese su direccion2:\")))\n",
        "mag3=int(input(\"Ingrese su magnitud3:\"))\n",
        "dir3=np.radians(int(input(\"Ingrese su direccion3:\")))\n",
        "\n",
        "A=np.array([mag1*np.cos(dir1),mag1*np.sin(dir1)])\n",
        "B=np.array([mag2*np.cos(dir2),mag2*np.sin(dir2)])\n",
        "C=np.array([mag3*np.cos(dir3),mag3*np.sin(dir3)])\n",
        "print(\"A=\",np.round(A,4),\"\\n\",\"B=\",np.round(B,4),\"\\n\",\"C=\",np.round(C,4))\n",
        "#suma de componentes\n",
        "suma=A+B+C\n",
        "print(\"La suma de los vectores es:\",np.round(suma,4))\n",
        "#magnitud de la suma\n",
        "mag_suma=np.sqrt(suma[0]**2+suma[1]**2)\n",
        "print(\"La magnitud de la suma es:\",np.round(mag_suma,4))\n",
        "#direccion\n",
        "div=suma[1]/suma[0]\n",
        "dire_suma=np.degrees(np.arctan(div))\n",
        "if(suma[0]<0):\n",
        "    dire_suma=dire_suma+180\n",
        "\n",
        "print(\"La direccion de la suma es:\",np.round(dire_suma,4))\n",
        "\n",
        "#Grafica\n",
        "ax = plt.axes()\n",
        "ax.arrow(0, 0, A[0], A[1], head_width=0.5, head_length=0.5, color='red')\n",
        "ax.text(A[0] + 0.3, A[1] + 0.3, 'Vector A', fontsize=12, color='red')\n",
        "ax.arrow(0, 0, B[0], B[1], head_width=0.5, head_length=0.5, color='green')\n",
        "ax.text(B[0] + 0.3, B[1] + 0.3, 'Vector B', fontsize=12, color='green')\n",
        "ax.arrow(0, 0, C[0], C[1], head_width=0.5, head_length=0.5, color='orange')\n",
        "ax.text(C[0] + 0.3, C[1] + 0.3, 'Vector C', fontsize=12, color='orange')\n",
        "ax.arrow(0, 0, suma[0], suma[1], head_width=0.5, head_length=0.5, color='blue')\n",
        "ax.text(suma[0] + 0.3, suma[1] + 0.3, 'Vector resultante', fontsize=12, color='blue')\n",
        "rango = magnitud + 5\n",
        "ax.axhline(0, color='black', linewidth=0.8)\n",
        "ax.axvline(0, color='black', linewidth=0.8)\n",
        "ax.set_xlim(-rango, rango)\n",
        "ax.set_ylim(-rango, rango)\n",
        "plt.show()\n"
      ],
      "metadata": {
        "colab": {
          "base_uri": "https://localhost:8080/",
          "height": 370
        },
        "collapsed": true,
        "id": "4HTPQMt8pueA",
        "outputId": "eb1a66cb-9b17-4cf3-c944-56c58be9a2e1"
      },
      "execution_count": 60,
      "outputs": [
        {
          "output_type": "error",
          "ename": "KeyboardInterrupt",
          "evalue": "Interrupted by user",
          "traceback": [
            "\u001b[0;31m---------------------------------------------------------------------------\u001b[0m",
            "\u001b[0;31mKeyboardInterrupt\u001b[0m                         Traceback (most recent call last)",
            "\u001b[0;32m<ipython-input-60-3884da4a0b3c>\u001b[0m in \u001b[0;36m<cell line: 0>\u001b[0;34m()\u001b[0m\n\u001b[0;32m----> 1\u001b[0;31m \u001b[0mmag1\u001b[0m\u001b[0;34m=\u001b[0m\u001b[0mint\u001b[0m\u001b[0;34m(\u001b[0m\u001b[0minput\u001b[0m\u001b[0;34m(\u001b[0m\u001b[0;34m\"Ingrese su magnitud1:\"\u001b[0m\u001b[0;34m)\u001b[0m\u001b[0;34m)\u001b[0m\u001b[0;34m\u001b[0m\u001b[0;34m\u001b[0m\u001b[0m\n\u001b[0m\u001b[1;32m      2\u001b[0m \u001b[0mdir1\u001b[0m\u001b[0;34m=\u001b[0m\u001b[0mnp\u001b[0m\u001b[0;34m.\u001b[0m\u001b[0mradians\u001b[0m\u001b[0;34m(\u001b[0m\u001b[0mint\u001b[0m\u001b[0;34m(\u001b[0m\u001b[0minput\u001b[0m\u001b[0;34m(\u001b[0m\u001b[0;34m\"Ingrese su direccion1:\"\u001b[0m\u001b[0;34m)\u001b[0m\u001b[0;34m)\u001b[0m\u001b[0;34m)\u001b[0m\u001b[0;34m\u001b[0m\u001b[0;34m\u001b[0m\u001b[0m\n\u001b[1;32m      3\u001b[0m \u001b[0mmag2\u001b[0m\u001b[0;34m=\u001b[0m\u001b[0mint\u001b[0m\u001b[0;34m(\u001b[0m\u001b[0minput\u001b[0m\u001b[0;34m(\u001b[0m\u001b[0;34m\"Ingrese su magnitud2:\"\u001b[0m\u001b[0;34m)\u001b[0m\u001b[0;34m)\u001b[0m\u001b[0;34m\u001b[0m\u001b[0;34m\u001b[0m\u001b[0m\n\u001b[1;32m      4\u001b[0m \u001b[0mdir2\u001b[0m\u001b[0;34m=\u001b[0m\u001b[0mnp\u001b[0m\u001b[0;34m.\u001b[0m\u001b[0mradians\u001b[0m\u001b[0;34m(\u001b[0m\u001b[0mint\u001b[0m\u001b[0;34m(\u001b[0m\u001b[0minput\u001b[0m\u001b[0;34m(\u001b[0m\u001b[0;34m\"Ingrese su direccion2:\"\u001b[0m\u001b[0;34m)\u001b[0m\u001b[0;34m)\u001b[0m\u001b[0;34m)\u001b[0m\u001b[0;34m\u001b[0m\u001b[0;34m\u001b[0m\u001b[0m\n\u001b[1;32m      5\u001b[0m \u001b[0mmag3\u001b[0m\u001b[0;34m=\u001b[0m\u001b[0mint\u001b[0m\u001b[0;34m(\u001b[0m\u001b[0minput\u001b[0m\u001b[0;34m(\u001b[0m\u001b[0;34m\"Ingrese su magnitud3:\"\u001b[0m\u001b[0;34m)\u001b[0m\u001b[0;34m)\u001b[0m\u001b[0;34m\u001b[0m\u001b[0;34m\u001b[0m\u001b[0m\n",
            "\u001b[0;32m/usr/local/lib/python3.11/dist-packages/ipykernel/kernelbase.py\u001b[0m in \u001b[0;36mraw_input\u001b[0;34m(self, prompt)\u001b[0m\n\u001b[1;32m   1175\u001b[0m                 \u001b[0;34m\"raw_input was called, but this frontend does not support input requests.\"\u001b[0m\u001b[0;34m\u001b[0m\u001b[0;34m\u001b[0m\u001b[0m\n\u001b[1;32m   1176\u001b[0m             )\n\u001b[0;32m-> 1177\u001b[0;31m         return self._input_request(\n\u001b[0m\u001b[1;32m   1178\u001b[0m             \u001b[0mstr\u001b[0m\u001b[0;34m(\u001b[0m\u001b[0mprompt\u001b[0m\u001b[0;34m)\u001b[0m\u001b[0;34m,\u001b[0m\u001b[0;34m\u001b[0m\u001b[0;34m\u001b[0m\u001b[0m\n\u001b[1;32m   1179\u001b[0m             \u001b[0mself\u001b[0m\u001b[0;34m.\u001b[0m\u001b[0m_parent_ident\u001b[0m\u001b[0;34m[\u001b[0m\u001b[0;34m\"shell\"\u001b[0m\u001b[0;34m]\u001b[0m\u001b[0;34m,\u001b[0m\u001b[0;34m\u001b[0m\u001b[0;34m\u001b[0m\u001b[0m\n",
            "\u001b[0;32m/usr/local/lib/python3.11/dist-packages/ipykernel/kernelbase.py\u001b[0m in \u001b[0;36m_input_request\u001b[0;34m(self, prompt, ident, parent, password)\u001b[0m\n\u001b[1;32m   1217\u001b[0m             \u001b[0;32mexcept\u001b[0m \u001b[0mKeyboardInterrupt\u001b[0m\u001b[0;34m:\u001b[0m\u001b[0;34m\u001b[0m\u001b[0;34m\u001b[0m\u001b[0m\n\u001b[1;32m   1218\u001b[0m                 \u001b[0;31m# re-raise KeyboardInterrupt, to truncate traceback\u001b[0m\u001b[0;34m\u001b[0m\u001b[0;34m\u001b[0m\u001b[0m\n\u001b[0;32m-> 1219\u001b[0;31m                 \u001b[0;32mraise\u001b[0m \u001b[0mKeyboardInterrupt\u001b[0m\u001b[0;34m(\u001b[0m\u001b[0;34m\"Interrupted by user\"\u001b[0m\u001b[0;34m)\u001b[0m \u001b[0;32mfrom\u001b[0m \u001b[0;32mNone\u001b[0m\u001b[0;34m\u001b[0m\u001b[0;34m\u001b[0m\u001b[0m\n\u001b[0m\u001b[1;32m   1220\u001b[0m             \u001b[0;32mexcept\u001b[0m \u001b[0mException\u001b[0m\u001b[0;34m:\u001b[0m\u001b[0;34m\u001b[0m\u001b[0;34m\u001b[0m\u001b[0m\n\u001b[1;32m   1221\u001b[0m                 \u001b[0mself\u001b[0m\u001b[0;34m.\u001b[0m\u001b[0mlog\u001b[0m\u001b[0;34m.\u001b[0m\u001b[0mwarning\u001b[0m\u001b[0;34m(\u001b[0m\u001b[0;34m\"Invalid Message:\"\u001b[0m\u001b[0;34m,\u001b[0m \u001b[0mexc_info\u001b[0m\u001b[0;34m=\u001b[0m\u001b[0;32mTrue\u001b[0m\u001b[0;34m)\u001b[0m\u001b[0;34m\u001b[0m\u001b[0;34m\u001b[0m\u001b[0m\n",
            "\u001b[0;31mKeyboardInterrupt\u001b[0m: Interrupted by user"
          ]
        }
      ]
    },
    {
      "cell_type": "markdown",
      "source": [
        "(d) Calcular el ángulo entre dos vectores en 3D a partir de sus componentes rectangulare"
      ],
      "metadata": {
        "id": "XbxD1cuFy-c5"
      }
    },
    {
      "cell_type": "code",
      "source": [],
      "metadata": {
        "id": "I707d96UvAKp"
      },
      "execution_count": null,
      "outputs": []
    }
  ]
}